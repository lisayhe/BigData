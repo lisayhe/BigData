{
 "cells": [
  {
   "cell_type": "code",
   "execution_count": 7,
   "metadata": {},
   "outputs": [
    {
     "name": "stdout",
     "output_type": "stream",
     "text": [
      "datadate\t1\n",
      "aco\t39\n",
      "acominc\t41\n",
      "act\t54\n",
      "ao\t65\n",
      "aocipen\t68\n",
      "aodo\t70\n",
      "aoloch\t72\n",
      "aox\t73\n",
      "ap\t74\n",
      "aqc\t80\n",
      "at\t93\n",
      "bkvlps\t109\n",
      "caps\t115\n",
      "capx\t116\n",
      "capxv\t117\n",
      "ceq\t122\n",
      "ceql\t123\n",
      "ceqt\t124\n",
      "ch\t133\n",
      "Read line by line and storing into list of lists takes 5.658268 seconds\n"
     ]
    }
   ],
   "source": [
    "#Lisa He\n",
    "#Obtain the time before we open the time:\n",
    "import time\n",
    "start_time = time.clock()\n",
    "fs_file = open('/Users/Lisa/Documents/BigData/hw1/compustat_annual_updates_fundamentals_annual.csv')\n",
    "variables_of_interest = ['datadate', 'aco', 'acominc', 'act', 'ao', 'aocipen', 'aodo','aoloch', 'aox','ap', 'aqc', 'at', 'bkvlps', 'caps','capx','capxv','ceq','ceql','ceqt', 'ch']\n",
    "single_line =fs_file.readline()\n",
    "\n",
    "variables = single_line.split(\",\")\n",
    "index =0\n",
    "vti = dict()\n",
    "for variable in variables:\n",
    "    variable = variable.strip()\n",
    "    if variable in variables_of_interest:\n",
    "        vti[variable]=index\n",
    "        #print(variable+\"\\t\"+str(index))\n",
    "    index+=1\n",
    "\n",
    "for var in variables_of_interest:\n",
    "    print(var+\"\\t\"+str(vti[var]))\n",
    "    \n",
    "\n",
    "#Create a list of lists:\n",
    "ll = list()\n",
    "#Create a list of dictionaries:\n",
    "\n",
    "line_num=1\n",
    "for line in fs_file:\n",
    "    #we would like to skip the first line (the header):\n",
    "    if line_num==1:\n",
    "        line_num += 1\n",
    "        continue\n",
    "    vars = line.split(\",\")\n",
    "    ll.append([vars[1],vars[39],vars[41],vars[54],vars[65],vars[68],vars[70],vars[72],vars[73],vars[74],vars[80],vars[93],vars[109],vars[115],vars[116],vars[117],vars[122],vars[123],vars[124],vars[133]])\n",
    "    line_num+=1\n",
    "fs_file.close()\n",
    "end_time = time.clock()\n",
    "print (\"Read line by line and storing into list of lists takes \"+str(round(end_time - start_time,6))+\" seconds\")"
   ]
  },
  {
   "cell_type": "code",
   "execution_count": 9,
   "metadata": {},
   "outputs": [
    {
     "name": "stdout",
     "output_type": "stream",
     "text": [
      "datadate\t1\n",
      "aco\t39\n",
      "acominc\t41\n",
      "act\t54\n",
      "ao\t65\n",
      "aocipen\t68\n",
      "aodo\t70\n",
      "aoloch\t72\n",
      "aox\t73\n",
      "ap\t74\n",
      "aqc\t80\n",
      "at\t93\n",
      "bkvlps\t109\n",
      "caps\t115\n",
      "capx\t116\n",
      "capxv\t117\n",
      "ceq\t122\n",
      "ceql\t123\n",
      "ceqt\t124\n",
      "ch\t133\n",
      "Read line by line and storing into list of dictionaries takes 6.968535 seconds\n"
     ]
    }
   ],
   "source": [
    "#Lisa He\n",
    "#Obtain the time before we open the time:\n",
    "start_time = time.clock()\n",
    "fs_file = open('/Users/Lisa/Documents/BigData/hw1/compustat_annual_updates_fundamentals_annual.csv')\n",
    "variables_of_interest = ['datadate', 'aco', 'acominc', 'act', 'ao', 'aocipen', 'aodo','aoloch', 'aox','ap', 'aqc', 'at', 'bkvlps', 'caps','capx','capxv','ceq','ceql','ceqt', 'ch']\n",
    "single_line =fs_file.readline()\n",
    "\n",
    "variables = single_line.split(\",\")\n",
    "index =0\n",
    "vti = dict()\n",
    "for variable in variables:\n",
    "    variable = variable.strip()\n",
    "    if variable in variables_of_interest:\n",
    "        vti[variable]=index\n",
    "        #print(variable+\"\\t\"+str(index))\n",
    "    index+=1\n",
    "\n",
    "for var in variables_of_interest:\n",
    "    print(var+\"\\t\"+str(vti[var]))\n",
    "    \n",
    "\n",
    "\n",
    "#Create a list of dictionaries:\n",
    "ld = list()\n",
    "line_num=1\n",
    "for line in fs_file:\n",
    "    #we would like to skip the first line (the header):\n",
    "    if line_num==1:\n",
    "        line_num += 1\n",
    "        continue\n",
    "    vars = line.split(\",\")\n",
    "    \n",
    "    td = dict()\n",
    "    for var in variables_of_interest:\n",
    "               td[var]=vars[vti[var]]\n",
    "    ld.append(td)\n",
    "    #print(line, end='')\n",
    "    line_num+=1\n",
    "fs_file.close()\n",
    "end_time = time.clock()\n",
    "print (\"Read line by line and storing into list of dictionaries takes \"+str(round(end_time - start_time,6))+\" seconds\")\n"
   ]
  },
  {
   "cell_type": "code",
   "execution_count": 10,
   "metadata": {},
   "outputs": [
    {
     "name": "stderr",
     "output_type": "stream",
     "text": [
      "/Users/Lisa/anaconda3/lib/python3.6/site-packages/IPython/core/interactiveshell.py:2785: DtypeWarning: Columns (10,26,30,918,919,920,925,940,945) have mixed types. Specify dtype option on import or set low_memory=False.\n",
      "  interactivity=interactivity, compiler=compiler, result=result)\n"
     ]
    },
    {
     "name": "stdout",
     "output_type": "stream",
     "text": [
      "Pandas takes 19.015816 seconds\n"
     ]
    }
   ],
   "source": [
    "start_time = time.clock()\n",
    "import pandas as pd\n",
    "fs_pd = pd.read_csv('/Users/Lisa/Documents/BigData/hw1/compustat_annual_updates_fundamentals_annual.csv')\n",
    "fsi_pd = fs_pd[variables_of_interest]\n",
    "#Obtain the time after we are done processing:\n",
    "end_time = time.clock()\n",
    "#Compute the running time\n",
    "print (\"Pandas takes \"+str(round(end_time - start_time,6))+\" seconds\")\n",
    "\n",
    "\n"
   ]
  },
  {
   "cell_type": "code",
   "execution_count": null,
   "metadata": {},
   "outputs": [],
   "source": [
    "#as expected, Panda takes the longest time\n",
    "#list of lists and list of dictionaries both take shorter time than panda\n",
    "#but list of lists is faster than list of dictionaries"
   ]
  }
 ],
 "metadata": {
  "kernelspec": {
   "display_name": "Python 3",
   "language": "python",
   "name": "python3"
  },
  "language_info": {
   "codemirror_mode": {
    "name": "ipython",
    "version": 3
   },
   "file_extension": ".py",
   "mimetype": "text/x-python",
   "name": "python",
   "nbconvert_exporter": "python",
   "pygments_lexer": "ipython3",
   "version": "3.6.5"
  }
 },
 "nbformat": 4,
 "nbformat_minor": 2
}
