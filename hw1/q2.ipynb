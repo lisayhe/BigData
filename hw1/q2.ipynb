{
 "cells": [
  {
   "cell_type": "code",
   "execution_count": 25,
   "metadata": {},
   "outputs": [],
   "source": [
    "#Lisa He\n",
    "#-*- coding: utf-8 -*-\n",
    "e_file = open('/Users/Lisa/Documents/BigData/hw1/MS_2007_AR.txt',encoding = \"ISO-8859-1\")\n",
    "filing =e_file.read()\n",
    "e_file.close()\n"
   ]
  },
  {
   "cell_type": "code",
   "execution_count": 10,
   "metadata": {},
   "outputs": [
    {
     "name": "stdout",
     "output_type": "stream",
     "text": [
      "FINANCIAL HIGHLIGHTS \n",
      "Ê\n",
      "\n",
      "\n",
      "\n",
      "\n",
      "\n",
      "\n",
      "(In millions, except per share data)\n",
      "\n",
      "\n",
      "\n",
      "\n",
      "\n",
      "\n",
      "\n",
      "\n",
      "\n",
      "\n",
      "\n",
      "Fiscal Year Ended JuneÊ30\n",
      "2007\n",
      "2006\n",
      "2005\n",
      "2004\n",
      "2003\n",
      "\n",
      "\n",
      "\n",
      "\n",
      "\n",
      "\n",
      "Revenue\n",
      "$51,122\n",
      "$44,282\n",
      "$39,788\n",
      "$36,835\n",
      "$32,187\n",
      "Operating income\n",
      "18,524\n",
      "16,472\n",
      "14,561\n",
      "9,034 \n",
      "9,545 \n",
      "Net income\n",
      "14,065\n",
      "12,599\n",
      "12,254\n",
      "8,168 \n",
      "7,531 \n",
      "Diluted earnings per share\n",
      "$    1.42\n",
      "$    1.20 \n",
      "$    1.12 \n",
      "$    0.75 \n",
      "$    0.69 \n",
      "Cash dividends declared per share\n",
      "$    0.40\n",
      "$    0.35 \n",
      "$    3.40 \n",
      "$    0.16 \n",
      "$    0.08 \n",
      "Cash and short-term investments\n",
      "23,411\n",
      "34,161\n",
      "37,751\n",
      "60,592\n",
      "49,048\n",
      "Total assets\n",
      "63,171\n",
      "69,597\n",
      "70,815\n",
      "94,368\n",
      "81,732\n",
      "Long-term obligations\n",
      "8,320\n",
      "7,051 \n",
      "5,823 \n",
      "4,574 \n",
      "2,846 \n",
      "StockholdersÕ equity\n",
      "31,097\n",
      "40,104\n",
      "48,115\n",
      "74,825\n",
      "64,912\n",
      "Ê\n",
      "\n"
     ]
    }
   ],
   "source": [
    "begin_field = filing.find(\"FINANCIAL HIGHLIGHTS\")\n",
    "begin_field = filing[begin_field:]\n",
    "end = begin_field.find('Our common stock')\n",
    "if begin_field != -1:\n",
    "    cinfo = begin_field[:end] \n",
    "print(cinfo)"
   ]
  },
  {
   "cell_type": "code",
   "execution_count": 11,
   "metadata": {},
   "outputs": [
    {
     "data": {
      "text/plain": [
       "'FINANCIAL HIGHLIGHTS \\nÊ\\n\\n\\n\\n\\n\\n\\n(In millions, except per share data)\\n\\n\\n\\n\\n\\n\\n\\n\\n\\n\\n\\nFiscal Year Ended JuneÊ30\\n2007\\n2006\\n2005\\n2004\\n2003\\n\\n\\n\\n\\n\\n\\nRevenue\\n$51,122\\n$44,282\\n$39,788\\n$36,835\\n$32,187\\nOperating income\\n18,524\\n16,472\\n14,561\\n9,034 \\n9,545 \\nNet income\\n14,065\\n12,599\\n12,254\\n8,168 \\n7,531 \\nDiluted earnings per share\\n$    1.42\\n$    1.20 \\n$    1.12 \\n$    0.75 \\n$    0.69 \\nCash dividends declared per share\\n$    0.40\\n$    0.35 \\n$    3.40 \\n$    0.16 \\n$    0.08 \\nCash and short-term investments\\n23,411\\n34,161\\n37,751\\n60,592\\n49,048\\nTotal assets\\n63,171\\n69,597\\n70,815\\n94,368\\n81,732\\nLong-term obligations\\n8,320\\n7,051 \\n5,823 \\n4,574 \\n2,846 \\nStockholdersÕ equity\\n31,097\\n40,104\\n48,115\\n74,825\\n64,912\\nÊ\\n'"
      ]
     },
     "execution_count": 11,
     "metadata": {},
     "output_type": "execute_result"
    }
   ],
   "source": [
    "cinfo"
   ]
  },
  {
   "cell_type": "code",
   "execution_count": 15,
   "metadata": {},
   "outputs": [
    {
     "data": {
      "text/plain": [
       "['FINANCIAL HIGHLIGHTS ',\n",
       " 'Ê',\n",
       " '(In millions, except per share data)',\n",
       " 'Fiscal Year Ended JuneÊ30',\n",
       " '2007',\n",
       " '2006',\n",
       " '2005',\n",
       " '2004',\n",
       " '2003',\n",
       " 'Revenue',\n",
       " '$51,122',\n",
       " '$44,282',\n",
       " '$39,788',\n",
       " '$36,835',\n",
       " '$32,187',\n",
       " 'Operating income',\n",
       " '18,524',\n",
       " '16,472',\n",
       " '14,561',\n",
       " '9,034 ',\n",
       " '9,545 ',\n",
       " 'Net income',\n",
       " '14,065',\n",
       " '12,599',\n",
       " '12,254',\n",
       " '8,168 ',\n",
       " '7,531 ',\n",
       " 'Diluted earnings per share',\n",
       " '$    1.42',\n",
       " '$    1.20 ',\n",
       " '$    1.12 ',\n",
       " '$    0.75 ',\n",
       " '$    0.69 ',\n",
       " 'Cash dividends declared per share',\n",
       " '$    0.40',\n",
       " '$    0.35 ',\n",
       " '$    3.40 ',\n",
       " '$    0.16 ',\n",
       " '$    0.08 ',\n",
       " 'Cash and short-term investments',\n",
       " '23,411',\n",
       " '34,161',\n",
       " '37,751',\n",
       " '60,592',\n",
       " '49,048',\n",
       " 'Total assets',\n",
       " '63,171',\n",
       " '69,597',\n",
       " '70,815',\n",
       " '94,368',\n",
       " '81,732',\n",
       " 'Long-term obligations',\n",
       " '8,320',\n",
       " '7,051 ',\n",
       " '5,823 ',\n",
       " '4,574 ',\n",
       " '2,846 ',\n",
       " 'StockholdersÕ equity',\n",
       " '31,097',\n",
       " '40,104',\n",
       " '48,115',\n",
       " '74,825',\n",
       " '64,912',\n",
       " 'Ê',\n",
       " '']"
      ]
     },
     "execution_count": 15,
     "metadata": {},
     "output_type": "execute_result"
    }
   ],
   "source": [
    "#Let's first split the string into lines:\n",
    "import re\n",
    "cinfo = re.sub(\"\\n+\" , \"\\n\", cinfo)\n",
    "lines = cinfo.split(\"\\n\")\n",
    "lines\n"
   ]
  },
  {
   "cell_type": "code",
   "execution_count": 20,
   "metadata": {},
   "outputs": [],
   "source": [
    "import re\n",
    "rev = dict()\n",
    "oper = dict()\n",
    "total = dict()\n",
    "for i in range(0,len(lines)):\n",
    "    lines[i] = lines[i].strip()\n",
    "    #Print non empty lines:\n",
    "    if (lines[i] =='Revenue'):\n",
    "        for j in range(0,5):\n",
    "            var = 2007-j\n",
    "            val = lines[i+1+j]\n",
    "            rev[var]=val\n",
    "    if (lines[i] =='Operating income'):\n",
    "        for j in range(0,5):\n",
    "            var = 2007-j\n",
    "            val = lines[i+1+j]\n",
    "            oper[var]=val\n",
    "    if (lines[i] =='Total assets'):\n",
    "        for j in range(0,5):\n",
    "            var = 2007-j\n",
    "            val = lines[i+1+j]\n",
    "            total[var]=val"
   ]
  },
  {
   "cell_type": "code",
   "execution_count": 24,
   "metadata": {},
   "outputs": [
    {
     "name": "stdout",
     "output_type": "stream",
     "text": [
      "Revenue:\n",
      "{2007: '$51,122', 2006: '$44,282', 2005: '$39,788', 2004: '$36,835', 2003: '$32,187'}\n",
      "Operating income:\n",
      "{2007: '18,524', 2006: '16,472', 2005: '14,561', 2004: '9,034', 2003: '9,545'}\n",
      "Total assets:\n",
      "{2007: '63,171', 2006: '69,597', 2005: '70,815', 2004: '94,368', 2003: '81,732'}\n"
     ]
    }
   ],
   "source": [
    "print(\"Revenue:\")\n",
    "print(rev)\n",
    "print(\"Operating income:\")\n",
    "print(oper)\n",
    "print(\"Total assets:\")\n",
    "print(total)\n",
    "\n",
    "\n"
   ]
  },
  {
   "cell_type": "code",
   "execution_count": null,
   "metadata": {},
   "outputs": [],
   "source": []
  }
 ],
 "metadata": {
  "kernelspec": {
   "display_name": "Python 3",
   "language": "python",
   "name": "python3"
  },
  "language_info": {
   "codemirror_mode": {
    "name": "ipython",
    "version": 3
   },
   "file_extension": ".py",
   "mimetype": "text/x-python",
   "name": "python",
   "nbconvert_exporter": "python",
   "pygments_lexer": "ipython3",
   "version": "3.6.5"
  }
 },
 "nbformat": 4,
 "nbformat_minor": 2
}
